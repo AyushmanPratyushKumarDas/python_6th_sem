{
 "cells": [
  {
   "cell_type": "code",
   "execution_count": 5,
   "id": "390a1f7d-0698-448e-a61e-de0bc86119f9",
   "metadata": {},
   "outputs": [
    {
     "name": "stdout",
     "output_type": "stream",
     "text": [
      "Accuracy:1.0\n",
      "\n",
      "Confusion Matrix:[[1 0]\n",
      " [0 2]]\n",
      "\n",
      "precision_score:1.0\n",
      "\n",
      "recall_score:1.0\n",
      "\n",
      "f1_score:1.0\n",
      "\n"
     ]
    }
   ],
   "source": [
    "import pandas as pd\n",
    "from sklearn.model_selection import train_test_split\n",
    "from sklearn.linear_model import LinearRegression\n",
    "from sklearn.metrics import confusion_matrix,accuracy_score,precision_score,recall_score,f1_score\n",
    "\n",
    "df = pd.read_csv(\"placement.csv\")\n",
    "\n",
    "#classification\n",
    "df['label'] = (df['package'] >= 8).astype(int)\n",
    "x=df[['cgpa']]\n",
    "y=df['label']\n",
    "\n",
    "x_train,x_test,y_train,y_test = train_test_split(x,y,test_size=0.2,random_state=2)\n",
    "\n",
    "model = LinearRegression()\n",
    "model.fit(x_train,y_train)\n",
    "\n",
    "y_pred_prob = model.predict(x_test)\n",
    "y_pred_class = (y_pred_prob >=0.5).astype(int)\n",
    "\n",
    "\n",
    "print(f\"Accuracy:{accuracy_score(y_test,y_pred_class)}\\n\")\n",
    "print(f\"Confusion Matrix:{confusion_matrix(y_test,y_pred_class)}\\n\")\n",
    "print(f\"precision_score:{precision_score(y_test,y_pred_class)}\\n\")\n",
    "print(f\"recall_score:{recall_score(y_test,y_pred_class)}\\n\")\n",
    "print(f\"f1_score:{f1_score(y_test,y_pred_class)}\\n\")"
   ]
  },
  {
   "cell_type": "code",
   "execution_count": null,
   "id": "a79a67ab-5d33-4d0b-9813-e620f0be1893",
   "metadata": {},
   "outputs": [],
   "source": []
  }
 ],
 "metadata": {
  "kernelspec": {
   "display_name": "Python 3 (ipykernel)",
   "language": "python",
   "name": "python3"
  },
  "language_info": {
   "codemirror_mode": {
    "name": "ipython",
    "version": 3
   },
   "file_extension": ".py",
   "mimetype": "text/x-python",
   "name": "python",
   "nbconvert_exporter": "python",
   "pygments_lexer": "ipython3",
   "version": "3.12.4"
  }
 },
 "nbformat": 4,
 "nbformat_minor": 5
}
