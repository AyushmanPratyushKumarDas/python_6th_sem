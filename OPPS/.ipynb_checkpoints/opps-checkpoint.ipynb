{
 "cells": [
  {
   "cell_type": "code",
   "execution_count": 3,
   "id": "45d05b4d-2da8-4b5c-8280-0463cac667b5",
   "metadata": {},
   "outputs": [
    {
     "name": "stdout",
     "output_type": "stream",
     "text": [
      "hello, my name is APKD and i am basically 22 with  a mark 98 fr\n"
     ]
    }
   ],
   "source": [
    "class Student:\n",
    "    def __init__(self):\n",
    "        self.name = \"APKD\"\n",
    "        self.age = 22\n",
    "        self.marks = 98\n",
    "    def prints(self):\n",
    "        print(f'hello, my name is {self.name} and i am basically {self.age} with  a mark {self.marks} fr')\n",
    "\n",
    "s= Student()\n",
    "s.prints()"
   ]
  },
  {
   "cell_type": "code",
   "execution_count": 5,
   "id": "3c724976-7533-4983-b2f0-0427b1004d83",
   "metadata": {},
   "outputs": [
    {
     "name": "stdout",
     "output_type": "stream",
     "text": [
      "hello, my name is APKD and i am basically 22 with  a mark 100 fr\n"
     ]
    }
   ],
   "source": [
    "class Student:\n",
    "    def __init__(self,age,mark):\n",
    "        self.name = \"APKD\"\n",
    "        self.age = age\n",
    "        self.marks = mark\n",
    "    def prints(self):\n",
    "        print(f'hello, my name is {self.name} and i am basically {self.age} with  a mark {self.marks} fr')\n",
    "\n",
    "s= Student(22,100)\n",
    "s.prints()"
   ]
  },
  {
   "cell_type": "code",
   "execution_count": 7,
   "id": "80c7e79f-5555-426f-935b-5f84658ddfe9",
   "metadata": {},
   "outputs": [
    {
     "name": "stdout",
     "output_type": "stream",
     "text": [
      "constructor mf\n",
      "func executed by constructor\n"
     ]
    }
   ],
   "source": [
    "class Student:\n",
    "    def __init__(self):\n",
    "        print(\"constructor mf\")\n",
    "        self.info()\n",
    "    def info(self):\n",
    "        print(\"func executed by constructor\")\n",
    "       \n",
    "\n",
    "s= Student()\n"
   ]
  },
  {
   "cell_type": "code",
   "execution_count": 11,
   "id": "8879fddd-ba7c-4430-a07e-2479869c967d",
   "metadata": {},
   "outputs": [
    {
     "name": "stdout",
     "output_type": "stream",
     "text": [
      "parameteried constructor\n"
     ]
    }
   ],
   "source": [
    "class Student:\n",
    "    def __init__(self):\n",
    "        print(\"unparameteried constructor\")\n",
    "    def __init__(self,x):\n",
    "        print(\"parameteried constructor\")\n",
    "       \n",
    "\n",
    "# s= Student()\n",
    "s=Student(10)"
   ]
  },
  {
   "cell_type": "code",
   "execution_count": 23,
   "id": "47574d7e-3013-4dcf-9c3c-36c762abb388",
   "metadata": {},
   "outputs": [
    {
     "name": "stdout",
     "output_type": "stream",
     "text": [
      "{'name': 'Ayushman', 'mark': 98}\n"
     ]
    }
   ],
   "source": [
    "class Student:\n",
    "    def __init__(self,name,roll,course):\n",
    "        self.name = name\n",
    "        self.roll = roll\n",
    "        self.course = course\n",
    "    def info(self):\n",
    "        self.mark = 98\n",
    "        del self.course\n",
    "        \n",
    "\n",
    "s=Student(\"Ayushman\",2241004040,\"CSE\")\n",
    "s.info()\n",
    "del s.roll\n",
    "print(s.__dict__)"
   ]
  },
  {
   "cell_type": "markdown",
   "id": "96ce566b-78b5-48e9-b850-3b374067b9a2",
   "metadata": {},
   "source": [
    "## STATIC VARIABLES"
   ]
  },
  {
   "cell_type": "code",
   "execution_count": 26,
   "id": "0fb50546-2732-4ea7-9410-b7c9b3195af1",
   "metadata": {},
   "outputs": [
    {
     "name": "stdout",
     "output_type": "stream",
     "text": [
      "{'__module__': '__main__', 'a': 10, '__init__': <function Test.__init__ at 0x00000253418F4AE0>, 'm1': <function Test.m1 at 0x00000253418F4E00>, 'm2': <classmethod(<function Test.m2 at 0x00000253418F40E0>)>, 'm3': <staticmethod(<function Test.m3 at 0x00000253418F4FE0>)>, '__dict__': <attribute '__dict__' of 'Test' objects>, '__weakref__': <attribute '__weakref__' of 'Test' objects>, '__doc__': None, 'b': 20, 'c': 20, 'd': 20, 'e': 20, 'f': 20, 'g': 20}\n"
     ]
    }
   ],
   "source": [
    "class Test:\n",
    "    a = 10 #Static variable\n",
    "    def __init__(self):\n",
    "        Test.b = 20 #Static variable\n",
    "    def m1(self):\n",
    "        Test.c = 20 #Static variable\n",
    "    @classmethod\n",
    "    def m2(cls):\n",
    "        cls.d = 20 #Static variable\n",
    "        Test.e = 20 #Static variable\n",
    "    @staticmethod\n",
    "    def m3():\n",
    "        Test.f = 20 #Static variable\n",
    "t = Test()\n",
    "t.m1()\n",
    "Test.m2()\n",
    "Test.m3()\n",
    "Test.g = 20 #Static variable\n",
    "\n",
    "print(Test.__dict__)"
   ]
  },
  {
   "cell_type": "markdown",
   "id": "84206822-559a-4303-9504-3438491cace6",
   "metadata": {},
   "source": [
    "## __str__ and __repr__"
   ]
  },
  {
   "cell_type": "code",
   "execution_count": 37,
   "id": "b61834aa-34d5-49ce-98ee-889192633556",
   "metadata": {},
   "outputs": [
    {
     "name": "stdout",
     "output_type": "stream",
     "text": [
      "10<-->11\n",
      "10<-->11\n",
      "12<-->13\n",
      "[22<-->23, 32<-->33]\n"
     ]
    }
   ],
   "source": [
    "class Student:\n",
    "    def __init__(self,a,b,c,d):\n",
    "        self.a = a\n",
    "        self.b = b\n",
    "        self.c = c\n",
    "        self.d = d\n",
    "    def __str__(self):\n",
    "        return f\"{self.a}<-->{self.b}\"\n",
    "    def __repr__(self):\n",
    "        return f\"{self.c}<-->{self.d}\"\n",
    "\n",
    "s= Student(10,11,12,13)\n",
    "print(s) ##reurns the __str__ returnings\n",
    "print(str(s))\n",
    "print(repr(s))\n",
    "\n",
    "s1 = Student(20,21,22,23)\n",
    "s2 = Student(30,31,32,33)\n",
    "print([s1,s2]) ## returns the __repr__ values in nultiple objects\n"
   ]
  },
  {
   "cell_type": "markdown",
   "id": "649199ab-058b-4ea5-acd1-e78367357f63",
   "metadata": {},
   "source": [
    "## Encapsulation and private variables"
   ]
  },
  {
   "cell_type": "code",
   "execution_count": 40,
   "id": "ad183ce2-d2df-4050-8183-0e175ad52fd6",
   "metadata": {},
   "outputs": [
    {
     "name": "stdout",
     "output_type": "stream",
     "text": [
      "10\n"
     ]
    }
   ],
   "source": [
    "class Student:\n",
    "    def __init__(self,a):\n",
    "       self.__a = a ##private variables\n",
    "    def get_data(self):\n",
    "        return self.__a\n",
    "    \n",
    "s=Student(10)\n",
    "print(s.get_data())"
   ]
  },
  {
   "cell_type": "code",
   "execution_count": 44,
   "id": "71100d89-7ef8-4a36-b79c-b559a7ff5955",
   "metadata": {},
   "outputs": [
    {
     "name": "stdout",
     "output_type": "stream",
     "text": [
      "10\n"
     ]
    }
   ],
   "source": [
    "class Student:\n",
    "    def __init__(self,a):\n",
    "       self.a = a \n",
    "    def __get_data(self):   ##private methods\n",
    "        return self.a\n",
    "\n",
    "##private:- __get_data() or __a\n",
    "##protected:- _get_data() or _a\n",
    "    \n",
    "s=Student(10)\n",
    "print(s.a)"
   ]
  },
  {
   "cell_type": "markdown",
   "id": "42d085fe-3bda-4228-8639-86f577d2a50a",
   "metadata": {},
   "source": [
    "## Property decorator"
   ]
  },
  {
   "cell_type": "code",
   "execution_count": 51,
   "id": "c2121833-827b-4ce1-bdd3-cb9a8d46c435",
   "metadata": {},
   "outputs": [
    {
     "name": "stdout",
     "output_type": "stream",
     "text": [
      " Hii Ayushman\n"
     ]
    }
   ],
   "source": [
    "class Student:\n",
    "    @property\n",
    "    def getName(self):\n",
    "        return self.name\n",
    "    @getName.setter\n",
    "    def setName(self,name):\n",
    "        self.name = name\n",
    "name = \"Ayushman\",\"Pratyush\",\"Omm\"\n",
    "s=Student()\n",
    "s.setName = name\n",
    "print(f\" Hii {s.getName[0]}\")"
   ]
  },
  {
   "cell_type": "markdown",
   "id": "2dd8e8dc-5acc-47e7-ad9c-51e0d8e18583",
   "metadata": {},
   "source": [
    "# Inheritance"
   ]
  },
  {
   "cell_type": "code",
   "execution_count": 60,
   "id": "9439f46c-5d99-4194-909b-a499025df0e0",
   "metadata": {},
   "outputs": [
    {
     "name": "stdout",
     "output_type": "stream",
     "text": [
      "D\n",
      "C\n",
      "B\n",
      "A\n"
     ]
    }
   ],
   "source": [
    "class A:\n",
    "    def b1(self):\n",
    "        print(\"A\")\n",
    "class B(A):\n",
    "    def b2(self):\n",
    "        print(\"B\")\n",
    "class C(A):\n",
    "    def b3(self):\n",
    "        print(\"C\")\n",
    "class D(B,C):\n",
    "    def b4(self):\n",
    "        print(\"D\")\n",
    "\n",
    "d = D()\n",
    "d.b4()\n",
    "d.b3()\n",
    "d.b2()\n",
    "d.b1()\n"
   ]
  },
  {
   "cell_type": "markdown",
   "id": "1d9684a3-22d5-4779-9306-fc2be92ba4d5",
   "metadata": {},
   "source": [
    "# Data Class"
   ]
  },
  {
   "cell_type": "code",
   "execution_count": 65,
   "id": "85e12cd9-afbf-479b-9ebc-8dcefee25940",
   "metadata": {},
   "outputs": [
    {
     "name": "stdout",
     "output_type": "stream",
     "text": [
      "APKD ----- 22\n"
     ]
    }
   ],
   "source": [
    "from dataclasses import dataclass\n",
    "@dataclass\n",
    "class person:\n",
    "    name:str\n",
    "    age:int\n",
    "p=person('APKD',22)\n",
    "print(p.name,\"-----\",p.age)"
   ]
  },
  {
   "cell_type": "code",
   "execution_count": 69,
   "id": "4ef0214a-912c-4e6c-8a57-cb899c60e56e",
   "metadata": {},
   "outputs": [
    {
     "ename": "FrozenInstanceError",
     "evalue": "cannot assign to field 'age'",
     "output_type": "error",
     "traceback": [
      "\u001b[1;31m---------------------------------------------------------------------------\u001b[0m",
      "\u001b[1;31mFrozenInstanceError\u001b[0m                       Traceback (most recent call last)",
      "Cell \u001b[1;32mIn[69], line 7\u001b[0m\n\u001b[0;32m      5\u001b[0m     age:\u001b[38;5;28mint\u001b[39m \u001b[38;5;241m=\u001b[39m \u001b[38;5;241m22\u001b[39m\n\u001b[0;32m      6\u001b[0m p\u001b[38;5;241m=\u001b[39mperson(\u001b[38;5;124m'\u001b[39m\u001b[38;5;124mAPKD\u001b[39m\u001b[38;5;124m'\u001b[39m)\n\u001b[1;32m----> 7\u001b[0m \u001b[43mp\u001b[49m\u001b[38;5;241;43m.\u001b[39;49m\u001b[43mage\u001b[49m\u001b[38;5;241m=\u001b[39m\u001b[38;5;241m50\u001b[39m\n\u001b[0;32m      8\u001b[0m \u001b[38;5;28mprint\u001b[39m(p\u001b[38;5;241m.\u001b[39mname,\u001b[38;5;124m\"\u001b[39m\u001b[38;5;124m-----\u001b[39m\u001b[38;5;124m\"\u001b[39m,p\u001b[38;5;241m.\u001b[39mage)\n",
      "File \u001b[1;32m<string>:4\u001b[0m, in \u001b[0;36m__setattr__\u001b[1;34m(self, name, value)\u001b[0m\n",
      "\u001b[1;31mFrozenInstanceError\u001b[0m: cannot assign to field 'age'"
     ]
    }
   ],
   "source": [
    "from dataclasses import dataclass\n",
    "@dataclass(frozen = True)\n",
    "class person:\n",
    "    name:str\n",
    "    age:int = 22\n",
    "p=person('APKD')\n",
    "p.age=50\n",
    "print(p.name,\"-----\",p.age)"
   ]
  },
  {
   "cell_type": "markdown",
   "id": "b077bf10-66e3-4747-a953-f55ef60a9d7f",
   "metadata": {},
   "source": [
    "# OPERATOR OVERLOADING"
   ]
  },
  {
   "cell_type": "code",
   "execution_count": 73,
   "id": "e802104b-8c78-445e-ae7d-f6ee53a18c34",
   "metadata": {},
   "outputs": [
    {
     "name": "stdout",
     "output_type": "stream",
     "text": [
      "400 || 600\n",
      "200 || 200\n"
     ]
    }
   ],
   "source": [
    "class Book:\n",
    "    def __init__(self,x,y):\n",
    "        self.x = x\n",
    "        self.y = y\n",
    "    def __add__(self,other):\n",
    "        return f'{self.x+other.x} || {self.y+other.y}'\n",
    "    def __sub__(self,other):\n",
    "        return f'{self.x-other.x} || {self.y-other.y}'\n",
    "b1=Book(100,200)\n",
    "b2=Book(300,400)\n",
    "\n",
    "print(b1 + b2)\n",
    "print(b2 - b1)"
   ]
  },
  {
   "cell_type": "code",
   "execution_count": null,
   "id": "ae69b7a4-f05b-4479-a0fb-a0a4022abe8b",
   "metadata": {},
   "outputs": [],
   "source": []
  }
 ],
 "metadata": {
  "kernelspec": {
   "display_name": "Python 3 (ipykernel)",
   "language": "python",
   "name": "python3"
  },
  "language_info": {
   "codemirror_mode": {
    "name": "ipython",
    "version": 3
   },
   "file_extension": ".py",
   "mimetype": "text/x-python",
   "name": "python",
   "nbconvert_exporter": "python",
   "pygments_lexer": "ipython3",
   "version": "3.12.4"
  }
 },
 "nbformat": 4,
 "nbformat_minor": 5
}
