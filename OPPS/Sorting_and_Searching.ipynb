{
 "cells": [
  {
   "cell_type": "code",
   "execution_count": 5,
   "id": "645fbe7f-ca79-492f-8358-c2d2e6b43bd4",
   "metadata": {},
   "outputs": [
    {
     "name": "stdout",
     "output_type": "stream",
     "text": [
      "6\n"
     ]
    }
   ],
   "source": [
    "def fact(n):\n",
    "    if n==1 or n == 0 :\n",
    "        return 1;\n",
    "    else:\n",
    "        return n*fact(n-1)\n",
    "print(fact(3))\n",
    "\n",
    "        "
   ]
  },
  {
   "cell_type": "code",
   "execution_count": 11,
   "id": "4769ba07-b5ba-40ff-9f18-87f80ae2e70a",
   "metadata": {},
   "outputs": [
    {
     "name": "stdout",
     "output_type": "stream",
     "text": [
      "fibo(0)=0\n",
      "fibo(1)=1\n",
      "fibo(2)=1\n",
      "fibo(3)=2\n",
      "fibo(4)=3\n",
      "fibo(5)=5\n",
      "fibo(6)=8\n"
     ]
    }
   ],
   "source": [
    "def fibonacci(n):\n",
    "    if n==1 or n==0:\n",
    "        return n\n",
    "    else:\n",
    "        return fibonacci(n-1)+fibonacci(n-2)\n",
    "\n",
    "for i in range(7):\n",
    "    print(f\"fibo({i})={fibonacci(i)}\")"
   ]
  },
  {
   "cell_type": "markdown",
   "id": "a4224ba3-2d06-4ce3-9a67-42f8411fbbba",
   "metadata": {},
   "source": [
    "# Searching"
   ]
  },
  {
   "cell_type": "code",
   "execution_count": 37,
   "id": "c2bff08f-afac-46d0-9190-e31b1bda0d86",
   "metadata": {},
   "outputs": [
    {
     "name": "stdout",
     "output_type": "stream",
     "text": [
      "3\n",
      "-1\n"
     ]
    }
   ],
   "source": [
    "import numpy as np\n",
    "\n",
    "def LinearSearch(a, key):\n",
    "    for i, j in enumerate(a):\n",
    "        if j == key:\n",
    "            return i\n",
    "    return -1  # Return -1 if key not found\n",
    "\n",
    "a = np.array([1, 5, 2, 10, 6])\n",
    "print(LinearSearch(a, 10))   # Output: 3\n",
    "print(LinearSearch(a, 99))   # Output: -1\n"
   ]
  },
  {
   "cell_type": "code",
   "execution_count": 39,
   "id": "3cfd4561-a21c-40db-b7c3-cfab8f608215",
   "metadata": {},
   "outputs": [
    {
     "name": "stdout",
     "output_type": "stream",
     "text": [
      "[ 1  2 10 20 30]\n",
      "4\n"
     ]
    }
   ],
   "source": [
    "def bin_search(data,key):\n",
    "    low = 0\n",
    "    high = np.size(data)-1\n",
    "    loc = -1\n",
    "    while low <=high and loc ==-1:\n",
    "        mid=(high+low)//2\n",
    "        if data[mid]==key:\n",
    "            loc=mid\n",
    "            return loc\n",
    "        elif key < data[mid]:\n",
    "            high = mid -1\n",
    "        else:\n",
    "            low = mid+1\n",
    "    return -1\n",
    "a = np.array([1,2,10,20,30])\n",
    "print(a)\n",
    "print(bin_search(a,30))"
   ]
  },
  {
   "cell_type": "markdown",
   "id": "88421627-a8c7-4236-ad7a-42d8c48409c6",
   "metadata": {},
   "source": [
    "## SORTING"
   ]
  },
  {
   "cell_type": "code",
   "execution_count": 72,
   "id": "f62111ba-f90a-422a-885c-57c623f39dc2",
   "metadata": {},
   "outputs": [
    {
     "name": "stdout",
     "output_type": "stream",
     "text": [
      "[ 1  5  2 10  6]\n"
     ]
    }
   ],
   "source": [
    "def bubble_Sort(data, size=0):\n",
    "    n = len(data)\n",
    "    if size >= n - 1:\n",
    "        return\n",
    "\n",
    "    for i in range(n - size - 1):\n",
    "        if data[i] > data[i + 1]:\n",
    "            data[i], data[i + 1] = data[i + 1], data[i]  # Swap\n",
    "\n",
    "    bubble_Sort(data, size + 1)\n",
    "\n",
    "\n",
    "\n",
    "\n",
    "\n",
    "\n",
    "def Selection_Sort(data, start=0, size=0):\n",
    "    n = len(data)\n",
    "    if size >= n - 1:\n",
    "        return\n",
    "\n",
    "    min_index = start\n",
    "    for i in range(start + 1, n):\n",
    "        if data[i] < data[min_index]:\n",
    "            min_index = i\n",
    "\n",
    "    data[start], data[min_index] = data[min_index], data[start]\n",
    "\n",
    "    # Recursive call with updated indices\n",
    "    Selection_Sort(data, start + 1, size + 1)\n",
    "\n",
    "\n",
    "\n",
    "\n",
    "def Insertion_Sort(data, size=1):\n",
    "    n = len(data)\n",
    "    if size >= n:\n",
    "        return\n",
    "    else:\n",
    "        key = data[size]\n",
    "        j = size - 1\n",
    "        while j >= 0 and key < data[j]:\n",
    "            data[j + 1] = data[j]\n",
    "            j -= 1\n",
    "        data[j + 1] = key\n",
    "        Insertion_Sort(data, size + 1)\n",
    "\n",
    "\n",
    "def Merging(left, right):\n",
    "    new = []\n",
    "    i, j = 0, 0\n",
    "    while i < len(left) and j < len(right):\n",
    "        if left[i] < right[j]:\n",
    "            new.append(left[i])\n",
    "            i += 1\n",
    "        else:\n",
    "            new.append(right[j])  # Corrected from right[i]\n",
    "            j += 1\n",
    "    while i < len(left):\n",
    "        new.append(left[i])\n",
    "        i += 1\n",
    "    while j < len(right):\n",
    "        new.append(right[j])\n",
    "        j += 1\n",
    "    return new\n",
    "\n",
    "def Merge_Sort(data):\n",
    "    if len(data) <= 1:\n",
    "        return data\n",
    "    mid = len(data) // 2\n",
    "    left = Merge_Sort(data[:mid])   # Fixed slicing\n",
    "    right = Merge_Sort(data[mid:])\n",
    "    return Merging(left, right)     # Fixed function name\n",
    "\n",
    "\n",
    "\n",
    "a = np.array([1, 5, 2, 10, 6])\n",
    "# bubble_Sort(a)\n",
    "# Selection_Sort(a)\n",
    "# Insertion_Sort(a)\n",
    "Merge_Sort(a)\n",
    "print(a)"
   ]
  },
  {
   "cell_type": "code",
   "execution_count": null,
   "id": "b1054ee9-a132-47de-bf8f-0bcd8cfc7193",
   "metadata": {},
   "outputs": [],
   "source": []
  }
 ],
 "metadata": {
  "kernelspec": {
   "display_name": "Python 3 (ipykernel)",
   "language": "python",
   "name": "python3"
  },
  "language_info": {
   "codemirror_mode": {
    "name": "ipython",
    "version": 3
   },
   "file_extension": ".py",
   "mimetype": "text/x-python",
   "name": "python",
   "nbconvert_exporter": "python",
   "pygments_lexer": "ipython3",
   "version": "3.12.4"
  }
 },
 "nbformat": 4,
 "nbformat_minor": 5
}
